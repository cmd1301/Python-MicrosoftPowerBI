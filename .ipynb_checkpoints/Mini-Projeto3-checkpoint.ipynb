{
 "cells": [
  {
   "cell_type": "markdown",
   "metadata": {},
   "source": [
    "# <font color='blue'>Data Science Academy</font>\n",
    "# <font color='blue'>Linguagem Python e Power BI Para Manipulação de Dados</font>\n",
    "\n",
    "## <font color='blue'>Mini-Projeto 3</font>\n",
    "## <font color='blue'>Dashboard de Recursos Humanos Com Power BI e Linguagem Python</font>"
   ]
  },
  {
   "cell_type": "markdown",
   "metadata": {},
   "source": [
    "![title](mini-projeto3.png)"
   ]
  },
  {
   "cell_type": "markdown",
   "metadata": {},
   "source": [
    "## Definição do Problema\n",
    "\n",
    "A empresa ZuZa Inc coletou dados do ano anterior com diversos atributos de funcionários de todos os setores. O objetivo é estudar a relação desses atributos e o impacto na promoção dos funcionários. Esse trabalho de análise pode ser usado mais tarde para construir modelos de Machine Learning para prever se um colaborador será ou não promovido.\n",
    "\n",
    "Essas são as perguntas que devem ser respondidas:\n",
    "\n",
    "- Pergunta 1 - Qual a Correlação Entre os Atributos dos Funcionários?\n",
    "- Pergunta 2 - Qual o Tempo de Serviço da Maioria dos Funcionários?\n",
    "- Pergunta 3 - Qual Avaliação do Ano Anterior Foi Mais Comum?\n",
    "- Pergunta 4 - Qual a Distribuição das Idades dos Funcionários?\n",
    "- Pergunta 5 - Qual o Número de Treinamentos Mais Frequente?\n",
    "- Pergunta 6 - Qual a Proporção dos Funcionários Por Canal de Recrutamento?\n",
    "- Pergunta 7 - Qual a Relação Entre a Promoção e a Avaliação do Ano Anterior?\n",
    "\n",
    "Seu trabalho é limpar e preparar os dados e então construir um dashboard no Power BI para apresentar seus resultados."
   ]
  },
  {
   "cell_type": "markdown",
   "metadata": {},
   "source": [
    "## Carregando e Instalando Pacotes"
   ]
  },
  {
   "cell_type": "code",
   "execution_count": null,
   "metadata": {},
   "outputs": [],
   "source": [
    "# Versão da Linguagem Python\n",
    "from platform import python_version\n",
    "print('Versão da Linguagem Python Usada Neste Jupyter Notebook:', python_version())"
   ]
  },
  {
   "cell_type": "code",
   "execution_count": null,
   "metadata": {},
   "outputs": [],
   "source": [
    "# Para atualizar um pacote, execute o comando abaixo no terminal ou prompt de comando:\n",
    "# pip install -U nome_pacote\n",
    "\n",
    "# Para instalar a versão exata de um pacote, execute o comando abaixo no terminal ou prompt de comando:\n",
    "# !pip install nome_pacote==versão_desejada\n",
    "\n",
    "# Depois de instalar ou atualizar o pacote, reinicie o jupyter notebook.\n",
    "\n",
    "# Instala o pacote watermark. \n",
    "# Esse pacote é usado para gravar as versões de outros pacotes usados neste jupyter notebook.\n",
    "!pip install -q -U watermark"
   ]
  },
  {
   "cell_type": "code",
   "execution_count": null,
   "metadata": {
    "colab": {
     "base_uri": "https://localhost:8080/",
     "height": 73
    },
    "colab_type": "code",
    "executionInfo": {
     "elapsed": 51405,
     "status": "ok",
     "timestamp": 1593698493574,
     "user": {
      "displayName": "work data",
      "photoUrl": "",
      "userId": "01648815589157946143"
     },
     "user_tz": -330
    },
    "id": "Ufm7L5NljE9l",
    "outputId": "dfa0b936-3a2b-43ba-b043-73a470a351f3"
   },
   "outputs": [],
   "source": [
    "# Imports\n",
    "import numpy as np\n",
    "import pandas as pd\n",
    "import matplotlib\n",
    "import matplotlib.pyplot as plt\n",
    "import seaborn as sns\n",
    "import warnings\n",
    "warnings.filterwarnings(\"ignore\", category=FutureWarning)"
   ]
  },
  {
   "cell_type": "code",
   "execution_count": null,
   "metadata": {},
   "outputs": [],
   "source": [
    "# Versões dos pacotes usados neste jupyter notebook\n",
    "%reload_ext watermark\n",
    "%watermark -a \"Data Science Academy\" --iversions"
   ]
  },
  {
   "cell_type": "markdown",
   "metadata": {},
   "source": [
    "## Carregando os Dados"
   ]
  },
  {
   "cell_type": "code",
   "execution_count": null,
   "metadata": {
    "colab": {
     "base_uri": "https://localhost:8080/",
     "height": 295
    },
    "colab_type": "code",
    "executionInfo": {
     "elapsed": 52229,
     "status": "ok",
     "timestamp": 1593698494406,
     "user": {
      "displayName": "work data",
      "photoUrl": "",
      "userId": "01648815589157946143"
     },
     "user_tz": -330
    },
    "id": "9gDergu2jTwM",
    "outputId": "de5dc7ad-ed3d-48c6-b65c-e6cda5d43ddf"
   },
   "outputs": [],
   "source": [
    "dadosRH = pd.read_csv('dadosRH.csv')"
   ]
  },
  {
   "cell_type": "code",
   "execution_count": null,
   "metadata": {},
   "outputs": [],
   "source": [
    "dadosRH.head()"
   ]
  },
  {
   "cell_type": "code",
   "execution_count": null,
   "metadata": {
    "colab": {
     "base_uri": "https://localhost:8080/",
     "height": 399
    },
    "colab_type": "code",
    "executionInfo": {
     "elapsed": 52619,
     "status": "ok",
     "timestamp": 1593698494811,
     "user": {
      "displayName": "work data",
      "photoUrl": "",
      "userId": "01648815589157946143"
     },
     "user_tz": -330
    },
    "id": "fT1X96Wrjnpf",
    "outputId": "359b9949-7cd0-4f48-b907-83cc9cf17086"
   },
   "outputs": [],
   "source": [
    "dadosRH.shape"
   ]
  },
  {
   "cell_type": "markdown",
   "metadata": {},
   "source": [
    "## Análise Exploratória, Limpeza e Transformação de Dados\n",
    "\n",
    "Vamos manipular os dados e corrigir eventuais problemas."
   ]
  },
  {
   "cell_type": "code",
   "execution_count": null,
   "metadata": {
    "colab": {
     "base_uri": "https://localhost:8080/",
     "height": 290
    },
    "colab_type": "code",
    "executionInfo": {
     "elapsed": 52608,
     "status": "ok",
     "timestamp": 1593698494813,
     "user": {
      "displayName": "work data",
      "photoUrl": "",
      "userId": "01648815589157946143"
     },
     "user_tz": -330
    },
    "id": "PITQDwyrjqwS",
    "outputId": "5920b0bd-1740-47c5-e80f-8ee0460291a0"
   },
   "outputs": [],
   "source": [
    "dadosRH.isnull().sum()"
   ]
  },
  {
   "cell_type": "code",
   "execution_count": null,
   "metadata": {
    "colab": {
     "base_uri": "https://localhost:8080/",
     "height": 247
    },
    "colab_type": "code",
    "executionInfo": {
     "elapsed": 52604,
     "status": "ok",
     "timestamp": 1593698494814,
     "user": {
      "displayName": "work data",
      "photoUrl": "",
      "userId": "01648815589157946143"
     },
     "user_tz": -330
    },
    "id": "GRb7elZOjuDk",
    "outputId": "87d020f7-6f6e-411f-b329-44f766740cc7"
   },
   "outputs": [],
   "source": [
    "dadosRH.groupby(['educacao']).count()"
   ]
  },
  {
   "cell_type": "code",
   "execution_count": null,
   "metadata": {
    "colab": {
     "base_uri": "https://localhost:8080/",
     "height": 297
    },
    "colab_type": "code",
    "executionInfo": {
     "elapsed": 52600,
     "status": "ok",
     "timestamp": 1593698494816,
     "user": {
      "displayName": "work data",
      "photoUrl": "",
      "userId": "01648815589157946143"
     },
     "user_tz": -330
    },
    "id": "gKWehFOhjx1U",
    "outputId": "8ec2d52b-e0fa-4d54-a2c8-0474a4702ac6"
   },
   "outputs": [],
   "source": [
    "sns.countplot(dadosRH['educacao'])"
   ]
  },
  {
   "cell_type": "code",
   "execution_count": null,
   "metadata": {
    "colab": {
     "base_uri": "https://localhost:8080/",
     "height": 275
    },
    "colab_type": "code",
    "executionInfo": {
     "elapsed": 53067,
     "status": "ok",
     "timestamp": 1593698495290,
     "user": {
      "displayName": "work data",
      "photoUrl": "",
      "userId": "01648815589157946143"
     },
     "user_tz": -330
    },
    "id": "BOD90Ycjj1oU",
    "outputId": "89be0cf2-edfe-416d-b509-bc0f8ec84485"
   },
   "outputs": [],
   "source": [
    "dadosRH.groupby(['aval_ano_anterior']).count()"
   ]
  },
  {
   "cell_type": "code",
   "execution_count": null,
   "metadata": {
    "colab": {
     "base_uri": "https://localhost:8080/",
     "height": 298
    },
    "colab_type": "code",
    "executionInfo": {
     "elapsed": 53064,
     "status": "ok",
     "timestamp": 1593698495293,
     "user": {
      "displayName": "work data",
      "photoUrl": "",
      "userId": "01648815589157946143"
     },
     "user_tz": -330
    },
    "id": "2zwyIkVGkCCx",
    "outputId": "5410af54-0d77-46f9-82c0-8b6019ad8742"
   },
   "outputs": [],
   "source": [
    "sns.countplot(dadosRH['aval_ano_anterior'])"
   ]
  },
  {
   "cell_type": "markdown",
   "metadata": {},
   "source": [
    "Vamos aplicar imputação e preencher os valores ausentes."
   ]
  },
  {
   "cell_type": "code",
   "execution_count": null,
   "metadata": {
    "colab": {},
    "colab_type": "code",
    "executionInfo": {
     "elapsed": 53063,
     "status": "ok",
     "timestamp": 1593698495295,
     "user": {
      "displayName": "work data",
      "photoUrl": "",
      "userId": "01648815589157946143"
     },
     "user_tz": -330
    },
    "id": "vSnmkA63kIee"
   },
   "outputs": [],
   "source": [
    "dadosRH['educacao'].fillna(dadosRH['educacao'].mode()[0], inplace = True)"
   ]
  },
  {
   "cell_type": "code",
   "execution_count": null,
   "metadata": {
    "colab": {},
    "colab_type": "code",
    "executionInfo": {
     "elapsed": 53063,
     "status": "ok",
     "timestamp": 1593698495297,
     "user": {
      "displayName": "work data",
      "photoUrl": "",
      "userId": "01648815589157946143"
     },
     "user_tz": -330
    },
    "id": "5fkYpTLEkP63"
   },
   "outputs": [],
   "source": [
    "dadosRH['aval_ano_anterior'].fillna(dadosRH['aval_ano_anterior'].median(), inplace = True)"
   ]
  },
  {
   "cell_type": "code",
   "execution_count": null,
   "metadata": {
    "colab": {
     "base_uri": "https://localhost:8080/",
     "height": 290
    },
    "colab_type": "code",
    "executionInfo": {
     "elapsed": 53058,
     "status": "ok",
     "timestamp": 1593698495299,
     "user": {
      "displayName": "work data",
      "photoUrl": "",
      "userId": "01648815589157946143"
     },
     "user_tz": -330
    },
    "id": "RacxdeaXlI3T",
    "outputId": "1d9dd074-1b60-4691-eaae-36371c1ef0e6"
   },
   "outputs": [],
   "source": [
    "dadosRH.isnull().sum()"
   ]
  },
  {
   "cell_type": "code",
   "execution_count": null,
   "metadata": {},
   "outputs": [],
   "source": [
    "dadosRH.shape"
   ]
  },
  {
   "cell_type": "code",
   "execution_count": null,
   "metadata": {},
   "outputs": [],
   "source": [
    "dadosRH.groupby(['educacao']).count()"
   ]
  },
  {
   "cell_type": "code",
   "execution_count": null,
   "metadata": {},
   "outputs": [],
   "source": [
    "dadosRH.groupby(['aval_ano_anterior']).count()"
   ]
  },
  {
   "cell_type": "markdown",
   "metadata": {},
   "source": [
    "Vamos verificar o balanceamento de classe na variável \"promovido\"."
   ]
  },
  {
   "cell_type": "code",
   "execution_count": null,
   "metadata": {
    "colab": {
     "base_uri": "https://localhost:8080/",
     "height": 181
    },
    "colab_type": "code",
    "executionInfo": {
     "elapsed": 56941,
     "status": "ok",
     "timestamp": 1593698499196,
     "user": {
      "displayName": "work data",
      "photoUrl": "",
      "userId": "01648815589157946143"
     },
     "user_tz": -330
    },
    "id": "ViwkeH9Ynnbj",
    "outputId": "5d3ba7b5-e854-44c8-89ac-d585f093ad66"
   },
   "outputs": [],
   "source": [
    "dadosRH.groupby(['promovido']).count()"
   ]
  },
  {
   "cell_type": "code",
   "execution_count": null,
   "metadata": {
    "colab": {
     "base_uri": "https://localhost:8080/",
     "height": 298
    },
    "colab_type": "code",
    "executionInfo": {
     "elapsed": 56939,
     "status": "ok",
     "timestamp": 1593698499199,
     "user": {
      "displayName": "work data",
      "photoUrl": "",
      "userId": "01648815589157946143"
     },
     "user_tz": -330
    },
    "id": "Fcc-ez0voIKR",
    "outputId": "3489579a-96cb-4e6b-d336-2b2af6e12d66"
   },
   "outputs": [],
   "source": [
    "sns.countplot(dadosRH['promovido'])"
   ]
  },
  {
   "cell_type": "code",
   "execution_count": null,
   "metadata": {
    "colab": {
     "base_uri": "https://localhost:8080/",
     "height": 72
    },
    "colab_type": "code",
    "executionInfo": {
     "elapsed": 56934,
     "status": "ok",
     "timestamp": 1593698499199,
     "user": {
      "displayName": "work data",
      "photoUrl": "",
      "userId": "01648815589157946143"
     },
     "user_tz": -330
    },
    "id": "Dvh71WWtrPRp",
    "outputId": "c83dd245-3b86-4f11-c0e1-3ae9fbdca692"
   },
   "outputs": [],
   "source": [
    "df_classe_majoritaria = dadosRH[dadosRH.promovido==0]\n",
    "df_classe_minoritaria = dadosRH[dadosRH.promovido==1]"
   ]
  },
  {
   "cell_type": "code",
   "execution_count": null,
   "metadata": {},
   "outputs": [],
   "source": [
    "df_classe_majoritaria.shape"
   ]
  },
  {
   "cell_type": "code",
   "execution_count": null,
   "metadata": {},
   "outputs": [],
   "source": [
    "df_classe_minoritaria.shape"
   ]
  },
  {
   "cell_type": "code",
   "execution_count": null,
   "metadata": {},
   "outputs": [],
   "source": [
    "# Upsample da classe minoritária\n",
    "from sklearn.utils import resample\n",
    "df_classe_minoritaria_upsampled = resample(df_classe_minoritaria, \n",
    "                                           replace = True,     \n",
    "                                           n_samples = 50140,   \n",
    "                                           random_state = 150) "
   ]
  },
  {
   "cell_type": "code",
   "execution_count": null,
   "metadata": {},
   "outputs": [],
   "source": [
    "dadosRH_balanceados = pd.concat([df_classe_majoritaria, df_classe_minoritaria_upsampled])"
   ]
  },
  {
   "cell_type": "code",
   "execution_count": null,
   "metadata": {},
   "outputs": [],
   "source": [
    "dadosRH_balanceados.promovido.value_counts()"
   ]
  },
  {
   "cell_type": "code",
   "execution_count": null,
   "metadata": {
    "colab": {
     "base_uri": "https://localhost:8080/",
     "height": 399
    },
    "colab_type": "code",
    "executionInfo": {
     "elapsed": 56930,
     "status": "ok",
     "timestamp": 1593698499201,
     "user": {
      "displayName": "work data",
      "photoUrl": "",
      "userId": "01648815589157946143"
     },
     "user_tz": -330
    },
    "id": "2Ewpso7rvTlZ",
    "outputId": "ea5e438b-d138-4a6f-e986-3e9fa7b2d729"
   },
   "outputs": [],
   "source": [
    "dadosRH_balanceados.info()"
   ]
  },
  {
   "cell_type": "code",
   "execution_count": null,
   "metadata": {
    "colab": {
     "base_uri": "https://localhost:8080/",
     "height": 298
    },
    "colab_type": "code",
    "executionInfo": {
     "elapsed": 56926,
     "status": "ok",
     "timestamp": 1593698499202,
     "user": {
      "displayName": "work data",
      "photoUrl": "",
      "userId": "01648815589157946143"
     },
     "user_tz": -330
    },
    "id": "5pzA1bDCvpk0",
    "outputId": "72049ef5-4ec9-4428-fd73-2e8995ba11c8"
   },
   "outputs": [],
   "source": [
    "sns.countplot(dadosRH_balanceados['promovido'])"
   ]
  },
  {
   "cell_type": "markdown",
   "metadata": {},
   "source": [
    "Os dados estão balanceados. Vamos salvar o dataset com os dados manipulados."
   ]
  },
  {
   "cell_type": "code",
   "execution_count": null,
   "metadata": {},
   "outputs": [],
   "source": [
    "dadosRH_balanceados.to_csv('dadosRH_modificado.csv', encoding = 'utf-8', index = False)"
   ]
  },
  {
   "cell_type": "markdown",
   "metadata": {},
   "source": [
    "Agora carregamos os dados e seguimos com o trabalho de análise."
   ]
  },
  {
   "cell_type": "markdown",
   "metadata": {},
   "source": [
    "> A partir daqui executaremos também no Power BI."
   ]
  },
  {
   "cell_type": "code",
   "execution_count": null,
   "metadata": {},
   "outputs": [],
   "source": [
    "dataset = pd.read_csv('dadosRH_modificado.csv')\n",
    "dataset.head()"
   ]
  },
  {
   "cell_type": "code",
   "execution_count": null,
   "metadata": {},
   "outputs": [],
   "source": [
    "dataset.shape"
   ]
  },
  {
   "cell_type": "markdown",
   "metadata": {},
   "source": [
    "### Pergunta 1 - Qual a Correlação Entre os Atributos dos Funcionários?"
   ]
  },
  {
   "cell_type": "code",
   "execution_count": null,
   "metadata": {},
   "outputs": [],
   "source": [
    "import matplotlib.pyplot as plt\n",
    "import seaborn as sns\n",
    "corr = dataset.corr()\n",
    "sns.heatmap(corr, cmap = \"YlOrRd\", linewidths = 0.1)\n",
    "plt.show()"
   ]
  },
  {
   "cell_type": "markdown",
   "metadata": {},
   "source": [
    "### Pergunta 2 - Qual o Tempo de Serviço da Maioria dos Funcionários?"
   ]
  },
  {
   "cell_type": "code",
   "execution_count": null,
   "metadata": {
    "colab": {
     "base_uri": "https://localhost:8080/",
     "height": 585
    },
    "colab_type": "code",
    "executionInfo": {
     "elapsed": 59017,
     "status": "ok",
     "timestamp": 1593698501319,
     "user": {
      "displayName": "work data",
      "photoUrl": "",
      "userId": "01648815589157946143"
     },
     "user_tz": -330
    },
    "id": "0eqrfprLVPac",
    "outputId": "ce9ee07b-771b-421d-94a4-3ab7945316b0"
   },
   "outputs": [],
   "source": [
    "import matplotlib.pyplot as plt\n",
    "import seaborn as sns\n",
    "sns.distplot(dataset['tempo_servico'], color = 'green')\n",
    "plt.title('Distribuição do Tempo de Serviço dos Funcionários', fontsize = 15)\n",
    "plt.xlabel('Tempo de Serviço em Anos', fontsize = 15)\n",
    "plt.ylabel('Total')\n",
    "plt.show()"
   ]
  },
  {
   "cell_type": "markdown",
   "metadata": {},
   "source": [
    "### Pergunta 3 - Qual Avaliação do Ano Anterior Foi Mais Comum?"
   ]
  },
  {
   "cell_type": "code",
   "execution_count": null,
   "metadata": {
    "colab": {
     "base_uri": "https://localhost:8080/",
     "height": 571
    },
    "colab_type": "code",
    "executionInfo": {
     "elapsed": 59013,
     "status": "ok",
     "timestamp": 1593698501320,
     "user": {
      "displayName": "work data",
      "photoUrl": "",
      "userId": "01648815589157946143"
     },
     "user_tz": -330
    },
    "id": "VuXeNqr3ZpvU",
    "outputId": "a3c50ca1-7bf5-4ec6-ef29-06c54e982fa3"
   },
   "outputs": [],
   "source": [
    "import matplotlib.pyplot as plt\n",
    "import seaborn as sns\n",
    "dataset['aval_ano_anterior'].value_counts().sort_values().plot.bar(color = 'blue', figsize = (10, 5))\n",
    "plt.title('Distribuição da Avaliação do Ano Anterior dos Funcionários', fontsize = 15)\n",
    "plt.xlabel('Avaliações', fontsize = 15)\n",
    "plt.ylabel('Total')\n",
    "plt.show()"
   ]
  },
  {
   "cell_type": "markdown",
   "metadata": {},
   "source": [
    "### Pergunta 4 - Qual a Distribuição das Idades dos Funcionários?"
   ]
  },
  {
   "cell_type": "code",
   "execution_count": null,
   "metadata": {
    "colab": {
     "base_uri": "https://localhost:8080/",
     "height": 585
    },
    "colab_type": "code",
    "executionInfo": {
     "elapsed": 59011,
     "status": "ok",
     "timestamp": 1593698501322,
     "user": {
      "displayName": "work data",
      "photoUrl": "",
      "userId": "01648815589157946143"
     },
     "user_tz": -330
    },
    "id": "xSOr6f5qZ5cR",
    "outputId": "7820d569-ce44-4ea7-88be-5010d10e6942"
   },
   "outputs": [],
   "source": [
    "import matplotlib.pyplot as plt\n",
    "import seaborn as sns\n",
    "sns.distplot(dataset['idade'], color = 'magenta')\n",
    "plt.title('Distribuição da Idade dos Funcionários', fontsize = 15)\n",
    "plt.xlabel('Idade', fontsize = 15)\n",
    "plt.ylabel('Total')\n",
    "plt.show()"
   ]
  },
  {
   "cell_type": "markdown",
   "metadata": {},
   "source": [
    "### Pergunta 5 - Qual o Número de Treinamentos Mais Frequente?"
   ]
  },
  {
   "cell_type": "code",
   "execution_count": null,
   "metadata": {
    "colab": {
     "base_uri": "https://localhost:8080/",
     "height": 476
    },
    "colab_type": "code",
    "executionInfo": {
     "elapsed": 60206,
     "status": "ok",
     "timestamp": 1593698502526,
     "user": {
      "displayName": "work data",
      "photoUrl": "",
      "userId": "01648815589157946143"
     },
     "user_tz": -330
    },
    "id": "Inh7kNo7aXic",
    "outputId": "7a650a60-b8f4-424d-9eef-1a12087fc39d"
   },
   "outputs": [],
   "source": [
    "import matplotlib.pyplot as plt\n",
    "import seaborn as sns\n",
    "sns.violinplot(dataset['numero_treinamentos'], color = 'red')\n",
    "plt.title('Número de Treinamentos Feitos Pelos Funcionários', fontsize = 15)\n",
    "plt.xlabel('Número de Treinamentos', fontsize = 15)\n",
    "plt.ylabel('Frequência')\n",
    "plt.show()"
   ]
  },
  {
   "cell_type": "markdown",
   "metadata": {},
   "source": [
    "### Pergunta 6 - Qual a Proporção dos Funcionários Por Canal de Recrutamento?"
   ]
  },
  {
   "cell_type": "code",
   "execution_count": null,
   "metadata": {},
   "outputs": [],
   "source": [
    "dataset['canal_recrutamento'].value_counts()"
   ]
  },
  {
   "cell_type": "code",
   "execution_count": null,
   "metadata": {
    "scrolled": true
   },
   "outputs": [],
   "source": [
    "import matplotlib.pyplot as plt\n",
    "import seaborn as sns\n",
    "dataset['canal_recrutamento'].value_counts()\n",
    "fatias = [55375, 42358, 2547]\n",
    "labels = \"Outro\", \"Outsourcing\", \"Indicação\"\n",
    "colors = ['purple', 'lime', 'yellow']\n",
    "explode = [0, 0, 0]\n",
    "plt.pie(fatias, labels = labels, colors = colors, explode = explode, shadow = True, autopct = \"%.2f%%\")\n",
    "plt.title('Percentual de Funcionários Por Canal de Recrutamento', fontsize = 15)\n",
    "plt.axis('off')\n",
    "#plt.legend()\n",
    "plt.show()"
   ]
  },
  {
   "cell_type": "markdown",
   "metadata": {},
   "source": [
    "### Pergunta 7 - Qual a Relação Entre a Promoção e a Avaliação do Ano Anterior?"
   ]
  },
  {
   "cell_type": "code",
   "execution_count": null,
   "metadata": {
    "colab": {
     "base_uri": "https://localhost:8080/",
     "height": 680
    },
    "colab_type": "code",
    "executionInfo": {
     "elapsed": 60188,
     "status": "ok",
     "timestamp": 1593698502530,
     "user": {
      "displayName": "work data",
      "photoUrl": "",
      "userId": "01648815589157946143"
     },
     "user_tz": -330
    },
    "id": "eq77o58mcJC9",
    "outputId": "d27c140f-afdf-4ebf-d4fe-45ae9069e5ae"
   },
   "outputs": [],
   "source": [
    "import matplotlib.pyplot as plt\n",
    "import seaborn as sns\n",
    "data = pd.crosstab(dataset['aval_ano_anterior'], dataset['promovido'])\n",
    "data.div(data.sum(1).astype(float), axis = 0).plot(kind = 'bar', \n",
    "                                                   stacked = True, \n",
    "                                                   figsize = (16, 9), \n",
    "                                                   color = ['blue', 'magenta'])\n",
    "plt.title('Relação Entre Avaliação do Ano Anterior e a Promoção', fontsize = 15)\n",
    "plt.xlabel('Avaliação do Ano Anterior', fontsize = 15)\n",
    "plt.legend()\n",
    "plt.show()"
   ]
  },
  {
   "cell_type": "markdown",
   "metadata": {
    "colab": {},
    "colab_type": "code",
    "executionInfo": {
     "elapsed": 1178,
     "status": "ok",
     "timestamp": 1593700867232,
     "user": {
      "displayName": "work data",
      "photoUrl": "",
      "userId": "01648815589157946143"
     },
     "user_tz": -330
    },
    "id": "XpKTjlk68MN7"
   },
   "source": [
    "# Fim"
   ]
  }
 ],
 "metadata": {
  "colab": {
   "authorship_tag": "ABX9TyMB3LsuTvymI4FpU/rgfBud",
   "collapsed_sections": [],
   "name": "HR Analytics Promotion.ipynb",
   "provenance": []
  },
  "kernelspec": {
   "display_name": "Python 3",
   "language": "python",
   "name": "python3"
  },
  "language_info": {
   "codemirror_mode": {
    "name": "ipython",
    "version": 3
   },
   "file_extension": ".py",
   "mimetype": "text/x-python",
   "name": "python",
   "nbconvert_exporter": "python",
   "pygments_lexer": "ipython3",
   "version": "3.8.8"
  }
 },
 "nbformat": 4,
 "nbformat_minor": 1
}
